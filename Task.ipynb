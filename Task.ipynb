{
  "nbformat": 4,
  "nbformat_minor": 0,
  "metadata": {
    "colab": {
      "name": "Task.ipynb",
      "provenance": [],
      "collapsed_sections": []
    },
    "kernelspec": {
      "name": "python3",
      "display_name": "Python 3"
    },
    "language_info": {
      "name": "python"
    }
  },
  "cells": [
    {
      "cell_type": "code",
      "metadata": {
        "id": "cbWd9P_wbXK4"
      },
      "source": [
        "# Importing csv file and parsing it\n",
        "import hashlib\n",
        "import pandas as pd\n",
        "df = pd.read_csv ('/content/annual-enterprise-survey-2020-financial-year-provisional-csv.csv')"
      ],
      "execution_count": 61,
      "outputs": []
    },
    {
      "cell_type": "code",
      "metadata": {
        "id": "gO0s_Pvcu-UY"
      },
      "source": [
        "#Extracting third column\n",
        "keys = df.keys()\n",
        "col3 = df[keys[2]]"
      ],
      "execution_count": 62,
      "outputs": []
    },
    {
      "cell_type": "code",
      "metadata": {
        "id": "LDLvkXXFv2tG"
      },
      "source": [
        "#Concatinating string in odd rows\n",
        "string = \"\"\n",
        "for i in col3[0::2]:\n",
        "  i = str(i)\n",
        "  string = string + i"
      ],
      "execution_count": 63,
      "outputs": []
    },
    {
      "cell_type": "code",
      "metadata": {
        "colab": {
          "base_uri": "https://localhost:8080/"
        },
        "id": "qcOjvNhYv_ic",
        "outputId": "bfdb026c-3978-49cc-ee72-0e394f53f8ab"
      },
      "source": [
        "#Hash result using MD5 Algorithm\n",
        "result = hashlib.md5(string.encode())\n",
        "result = result.hexdigest().upper()\n",
        "print(result)"
      ],
      "execution_count": 64,
      "outputs": [
        {
          "output_type": "stream",
          "text": [
            "4DD595E104B509F219A56D3E52F409AC\n"
          ],
          "name": "stdout"
        }
      ]
    }
  ]
}